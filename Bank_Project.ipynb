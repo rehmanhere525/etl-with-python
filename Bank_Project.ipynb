{
 "cells": [
  {
   "cell_type": "markdown",
   "id": "5b13798a-5e32-476e-9bec-278a3b2a9fda",
   "metadata": {},
   "source": [
    "## **Cloud Data Engineering Module by Abdul Rehman**"
   ]
  },
  {
   "cell_type": "markdown",
   "id": "dd6e56c4-a337-49fa-9df1-934323445cfc",
   "metadata": {},
   "source": [
    "#### A basice Extract, Transform and Load (ETL) pipeline using web scrapping, pandas and SQL"
   ]
  },
  {
   "cell_type": "markdown",
   "id": "777cb5eb-a0e5-4054-a1af-305a6f5fc41b",
   "metadata": {},
   "source": [
    "#### Import necessary Libraries"
   ]
  },
  {
   "cell_type": "code",
   "execution_count": 21,
   "id": "fad22f8f-1913-471a-91b4-7c916f2d2bb7",
   "metadata": {},
   "outputs": [],
   "source": [
    "from io import StringIO\n",
    "import requests\n",
    "from bs4 import BeautifulSoup #Scraping\n",
    "import pandas as pd\n",
    "import sqlite3 #Basic Database\n",
    "from datetime import datetime"
   ]
  },
  {
   "cell_type": "markdown",
   "id": "74708c09-165e-4636-a3e5-0824fdb7b192",
   "metadata": {},
   "source": [
    "#### Step 0: Maintaining a Log File"
   ]
  },
  {
   "cell_type": "markdown",
   "id": "ebebf797-fd48-4321-97ba-6b9312f297f4",
   "metadata": {},
   "source": [
    "This step is done to record the logs while performing ETL and it is not neccessary in an ETL Pipeline"
   ]
  },
  {
   "cell_type": "code",
   "execution_count": 22,
   "id": "5c120ae4-eed4-45db-89f0-10997ab3fd8f",
   "metadata": {},
   "outputs": [],
   "source": [
    "def log_progress(message):\n",
    "    \"\"\"This function logs the mentioned message of a given stage of the\n",
    "    code execution to a log file. Function returns nothing\"\"\"\n",
    "\n",
    "    with open('./logs/code_log.txt', 'a') as f:\n",
    "        f.write(f'{datetime.now()}: {message}\\n')"
   ]
  },
  {
   "cell_type": "markdown",
   "id": "fd41e634-3abd-40d4-bcf7-3b40238f345b",
   "metadata": {},
   "source": [
    "#### Step 1: Extract"
   ]
  },
  {
   "cell_type": "code",
   "execution_count": 23,
   "id": "67fd0ea4-8710-411c-8bad-4e203e7deb82",
   "metadata": {},
   "outputs": [],
   "source": [
    "def extract(url, table_attribs):\n",
    "    \"\"\" This function aims to extract the required\n",
    "    information from the website and save it to a data frame. The\n",
    "    function returns the data frame for further processing. \"\"\"\n",
    "\n",
    "    soup = BeautifulSoup(requests.get(url).text, 'html.parser')\n",
    "    table = soup.find('span', string=table_attribs).find_next('table')\n",
    "    df = pd.read_html(StringIO(str(table)))[0]\n",
    "\n",
    "    log_progress('Data extraction complete. Initiating Transformation process')\n",
    "\n",
    "    return df"
   ]
  },
  {
   "cell_type": "markdown",
   "id": "ea881e37-424f-47c1-bbe8-320be371098f",
   "metadata": {},
   "source": [
    "#### Step 2: Transform"
   ]
  },
  {
   "cell_type": "code",
   "execution_count": 24,
   "id": "62b4d0d9-e2f6-42e9-8222-c150de0d1383",
   "metadata": {},
   "outputs": [],
   "source": [
    "def transform(df, csv_path):\n",
    "    \"\"\" This function accesses the CSV file for exchange rate\n",
    "    information, and adds three columns to the data frame, each\n",
    "    containing the transformed version of Market Cap column to\n",
    "    respective currencies\"\"\"\n",
    "\n",
    "    exchange_rate = pd.read_csv(csv_path, index_col=0).to_dict()['Rate']\n",
    "\n",
    "    df['MC_GBP_Billion'] = round(df['Market cap (US$ billion)'] * exchange_rate['GBP'], 2)\n",
    "    df['MC_EUR_Billion'] = round(df['Market cap (US$ billion)'] * exchange_rate['EUR'], 2)\n",
    "    df['MC_INR_Billion'] = round(df['Market cap (US$ billion)'] * exchange_rate['INR'], 2)\n",
    "\n",
    "    print(df)\n",
    "\n",
    "    log_progress('Data transformation complete. Initiating Loading process')\n",
    "\n",
    "    return df"
   ]
  },
  {
   "cell_type": "markdown",
   "id": "f50e6e5b-3082-4af2-8dd9-ada5f62c0b1a",
   "metadata": {},
   "source": [
    "#### Step 3: Load"
   ]
  },
  {
   "cell_type": "markdown",
   "id": "ebee1430-05ac-43a5-976c-6d5c13c0bed5",
   "metadata": {},
   "source": [
    "Loading data to a CSV"
   ]
  },
  {
   "cell_type": "code",
   "execution_count": 25,
   "id": "32dc5dff-02dd-43e4-9e5a-6839cbe9c343",
   "metadata": {},
   "outputs": [],
   "source": [
    "def load_to_csv(df, output_path):\n",
    "    \"\"\" This function saves the final data frame as a CSV file in\n",
    "    the provided path. Function returns nothing.\"\"\"\n",
    "\n",
    "    df.to_csv(output_path)\n",
    "\n",
    "    log_progress('Data saved to CSV file')"
   ]
  },
  {
   "cell_type": "markdown",
   "id": "ef731f9e-8a72-4106-9d1e-22d9a3ae3798",
   "metadata": {},
   "source": [
    "Loading data to SQL"
   ]
  },
  {
   "cell_type": "code",
   "execution_count": 26,
   "id": "a43db20e-1c26-4079-85d4-f04eb3dc3d79",
   "metadata": {},
   "outputs": [],
   "source": [
    "def load_to_db(df, sql_connection, table_name):\n",
    "    \"\"\" This function saves the final data frame to a database\n",
    "    table with the provided name. Function returns nothing.\"\"\"\n",
    "\n",
    "    df.to_sql(table_name, sql_connection, if_exists='replace', index=False)\n",
    "\n",
    "    log_progress('Data loaded to Database as a table, Executing queries')"
   ]
  },
  {
   "cell_type": "code",
   "execution_count": 27,
   "id": "b911e633-f90e-4a89-ad95-b20537b682d8",
   "metadata": {},
   "outputs": [],
   "source": [
    "def run_query(query_statement, sql_connection):\n",
    "    \"\"\" This function runs the query on the database table and\n",
    "    prints the output on the terminal. Function returns nothing. \"\"\"\n",
    "\n",
    "    cursor = sql_connection.cursor()\n",
    "    cursor.execute(query_statement)\n",
    "    result = cursor.fetchall()\n",
    "\n",
    "    log_progress('Process Complete')\n",
    "\n",
    "    return result"
   ]
  },
  {
   "cell_type": "markdown",
   "id": "2ae4c3e7-0f76-4a0f-871c-e37e7716010e",
   "metadata": {},
   "source": [
    "### Executing Pipeline"
   ]
  },
  {
   "cell_type": "code",
   "execution_count": 28,
   "id": "d884fc67-7aca-4f91-942f-1ffe917fbe09",
   "metadata": {},
   "outputs": [
    {
     "name": "stdout",
     "output_type": "stream",
     "text": [
      "   Rank                                Bank name  Market cap (US$ billion)  \\\n",
      "0     1                           JPMorgan Chase                    432.92   \n",
      "1     2                          Bank of America                    231.52   \n",
      "2     3  Industrial and Commercial Bank of China                    194.56   \n",
      "3     4               Agricultural Bank of China                    160.68   \n",
      "4     5                                HDFC Bank                    157.91   \n",
      "5     6                              Wells Fargo                    155.87   \n",
      "6     7                        HSBC Holdings PLC                    148.90   \n",
      "7     8                           Morgan Stanley                    140.83   \n",
      "8     9                  China Construction Bank                    139.82   \n",
      "9    10                            Bank of China                    136.81   \n",
      "\n",
      "   MC_GBP_Billion  MC_EUR_Billion  MC_INR_Billion  \n",
      "0          346.34          419.93        36798.20  \n",
      "1          185.22          224.57        19679.20  \n",
      "2          155.65          188.72        16537.60  \n",
      "3          128.54          155.86        13657.80  \n",
      "4          126.33          153.17        13422.35  \n",
      "5          124.70          151.19        13248.95  \n",
      "6          119.12          144.43        12656.50  \n",
      "7          112.66          136.61        11970.55  \n",
      "8          111.86          135.63        11884.70  \n",
      "9          109.45          132.71        11628.85  \n",
      "[(1, 'JPMorgan Chase', 432.92, 346.34, 419.93, 36798.2), (2, 'Bank of America', 231.52, 185.22, 224.57, 19679.2), (3, 'Industrial and Commercial Bank of China', 194.56, 155.65, 188.72, 16537.6), (4, 'Agricultural Bank of China', 160.68, 128.54, 155.86, 13657.8), (5, 'HDFC Bank', 157.91, 126.33, 153.17, 13422.35), (6, 'Wells Fargo', 155.87, 124.7, 151.19, 13248.95), (7, 'HSBC Holdings PLC', 148.9, 119.12, 144.43, 12656.5), (8, 'Morgan Stanley', 140.83, 112.66, 136.61, 11970.55), (9, 'China Construction Bank', 139.82, 111.86, 135.63, 11884.7), (10, 'Bank of China', 136.81, 109.45, 132.71, 11628.85)]\n",
      "[(151.987,)]\n",
      "[('JPMorgan Chase',), ('Bank of America',), ('Industrial and Commercial Bank of China',), ('Agricultural Bank of China',), ('HDFC Bank',)]\n"
     ]
    }
   ],
   "source": [
    "if __name__ == '__main__':\n",
    "    url = 'https://web.archive.org/web/20230908091635/https://en.wikipedia.org/wiki/List_of_largest_banks'\n",
    "    output_csv_path = './output/Largest_banks_data.csv'\n",
    "    database_name = './output/Banks.db'\n",
    "    table_name = 'Largest_banks'\n",
    "    log_progress('Preliminaries complete. Initiating ETL process')\n",
    "\n",
    "    df = extract(url, 'By market capitalization')\n",
    "\n",
    "    transform(df, './input/exchange_rate.csv')\n",
    "\n",
    "    load_to_csv(df, output_csv_path)\n",
    "\n",
    "    with sqlite3.connect(database_name) as conn:\n",
    "        load_to_db(df, conn, table_name)\n",
    "\n",
    "        print(run_query('SELECT * FROM Largest_banks', conn))\n",
    "\n",
    "        print(run_query('SELECT AVG(MC_GBP_Billion) FROM Largest_banks', conn))\n",
    "\n",
    "        print(run_query('SELECT \"Bank name\" FROM Largest_banks LIMIT 5', conn))\n"
   ]
  },
  {
   "cell_type": "code",
   "execution_count": null,
   "id": "18e86433-a0a8-480d-89ea-c9bdbecc81a5",
   "metadata": {},
   "outputs": [],
   "source": []
  }
 ],
 "metadata": {
  "kernelspec": {
   "display_name": "Python 3 (ipykernel)",
   "language": "python",
   "name": "python3"
  },
  "language_info": {
   "codemirror_mode": {
    "name": "ipython",
    "version": 3
   },
   "file_extension": ".py",
   "mimetype": "text/x-python",
   "name": "python",
   "nbconvert_exporter": "python",
   "pygments_lexer": "ipython3",
   "version": "3.12.7"
  }
 },
 "nbformat": 4,
 "nbformat_minor": 5
}
